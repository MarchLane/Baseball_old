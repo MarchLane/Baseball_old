{
 "cells": [
  {
   "cell_type": "code",
   "execution_count": 1,
   "id": "bc033c18",
   "metadata": {
    "ExecuteTime": {
     "end_time": "2021-11-13T05:26:45.960462Z",
     "start_time": "2021-11-13T05:26:44.432940Z"
    }
   },
   "outputs": [],
   "source": [
    "import os\n",
    "import pandas as pd\n",
    "import numpy as np\n",
    "from sklearn.preprocessing import StandardScaler\n",
    "from sklearn.decomposition import PCA\n",
    "from sklearn.model_selection import train_test_split\n",
    "from sklearn.linear_model import LinearRegression\n",
    "from sklearn.metrics import r2_score\n",
    "from sklearn.metrics import mean_squared_error\n",
    "import math\n"
   ]
  },
  {
   "cell_type": "code",
   "execution_count": 5,
   "id": "dd188cd4",
   "metadata": {
    "ExecuteTime": {
     "end_time": "2021-11-13T05:28:11.246326Z",
     "start_time": "2021-11-13T05:28:11.223303Z"
    },
    "scrolled": true
   },
   "outputs": [
    {
     "data": {
      "text/html": [
       "<div>\n",
       "<style scoped>\n",
       "    .dataframe tbody tr th:only-of-type {\n",
       "        vertical-align: middle;\n",
       "    }\n",
       "\n",
       "    .dataframe tbody tr th {\n",
       "        vertical-align: top;\n",
       "    }\n",
       "\n",
       "    .dataframe thead th {\n",
       "        text-align: right;\n",
       "    }\n",
       "</style>\n",
       "<table border=\"1\" class=\"dataframe\">\n",
       "  <thead>\n",
       "    <tr style=\"text-align: right;\">\n",
       "      <th></th>\n",
       "      <th>OBP</th>\n",
       "      <th>SLG</th>\n",
       "      <th>OPS</th>\n",
       "      <th>GPA</th>\n",
       "      <th>SECA</th>\n",
       "      <th>TA</th>\n",
       "      <th>RC</th>\n",
       "      <th>RC27</th>\n",
       "      <th>XR</th>\n",
       "      <th>ISO</th>\n",
       "      <th>PSR</th>\n",
       "      <th>wOBA</th>\n",
       "      <th>OW%</th>\n",
       "      <th>BABIP</th>\n",
       "    </tr>\n",
       "    <tr>\n",
       "      <th>Unnamed: 0</th>\n",
       "      <th></th>\n",
       "      <th></th>\n",
       "      <th></th>\n",
       "      <th></th>\n",
       "      <th></th>\n",
       "      <th></th>\n",
       "      <th></th>\n",
       "      <th></th>\n",
       "      <th></th>\n",
       "      <th></th>\n",
       "      <th></th>\n",
       "      <th></th>\n",
       "      <th></th>\n",
       "      <th></th>\n",
       "    </tr>\n",
       "  </thead>\n",
       "  <tbody>\n",
       "    <tr>\n",
       "      <th>두산</th>\n",
       "      <td>0.348405</td>\n",
       "      <td>0.378159</td>\n",
       "      <td>0.726564</td>\n",
       "      <td>0.351813</td>\n",
       "      <td>0.309297</td>\n",
       "      <td>0.698722</td>\n",
       "      <td>523.284688</td>\n",
       "      <td>19.380914</td>\n",
       "      <td>607.850</td>\n",
       "      <td>0.108741</td>\n",
       "      <td>81.988235</td>\n",
       "      <td>0.650651</td>\n",
       "      <td>0.623304</td>\n",
       "      <td>0.305222</td>\n",
       "    </tr>\n",
       "    <tr>\n",
       "      <th>KT</th>\n",
       "      <td>0.339951</td>\n",
       "      <td>0.370320</td>\n",
       "      <td>0.710271</td>\n",
       "      <td>0.344211</td>\n",
       "      <td>0.264384</td>\n",
       "      <td>0.656860</td>\n",
       "      <td>481.280829</td>\n",
       "      <td>17.825216</td>\n",
       "      <td>561.990</td>\n",
       "      <td>0.097717</td>\n",
       "      <td>88.491620</td>\n",
       "      <td>0.638638</td>\n",
       "      <td>0.583279</td>\n",
       "      <td>0.317922</td>\n",
       "    </tr>\n",
       "    <tr>\n",
       "      <th>키움</th>\n",
       "      <td>0.354248</td>\n",
       "      <td>0.405143</td>\n",
       "      <td>0.759391</td>\n",
       "      <td>0.372162</td>\n",
       "      <td>0.316594</td>\n",
       "      <td>0.731106</td>\n",
       "      <td>524.384079</td>\n",
       "      <td>19.421633</td>\n",
       "      <td>598.068</td>\n",
       "      <td>0.122271</td>\n",
       "      <td>92.202128</td>\n",
       "      <td>0.686838</td>\n",
       "      <td>0.624289</td>\n",
       "      <td>0.328688</td>\n",
       "    </tr>\n",
       "    <tr>\n",
       "      <th>KIA</th>\n",
       "      <td>0.335268</td>\n",
       "      <td>0.366901</td>\n",
       "      <td>0.702169</td>\n",
       "      <td>0.340648</td>\n",
       "      <td>0.287042</td>\n",
       "      <td>0.653355</td>\n",
       "      <td>424.774092</td>\n",
       "      <td>15.732374</td>\n",
       "      <td>505.946</td>\n",
       "      <td>0.104219</td>\n",
       "      <td>70.713287</td>\n",
       "      <td>0.697901</td>\n",
       "      <td>0.521602</td>\n",
       "      <td>0.307163</td>\n",
       "    </tr>\n",
       "    <tr>\n",
       "      <th>NC</th>\n",
       "      <td>0.352244</td>\n",
       "      <td>0.414410</td>\n",
       "      <td>0.766655</td>\n",
       "      <td>0.378148</td>\n",
       "      <td>0.313755</td>\n",
       "      <td>0.725661</td>\n",
       "      <td>587.084357</td>\n",
       "      <td>21.743865</td>\n",
       "      <td>665.952</td>\n",
       "      <td>0.130568</td>\n",
       "      <td>94.958333</td>\n",
       "      <td>0.641782</td>\n",
       "      <td>0.675613</td>\n",
       "      <td>0.319081</td>\n",
       "    </tr>\n",
       "    <tr>\n",
       "      <th>LG</th>\n",
       "      <td>0.336426</td>\n",
       "      <td>0.375169</td>\n",
       "      <td>0.711595</td>\n",
       "      <td>0.346725</td>\n",
       "      <td>0.280306</td>\n",
       "      <td>0.660294</td>\n",
       "      <td>480.000407</td>\n",
       "      <td>17.777793</td>\n",
       "      <td>566.392</td>\n",
       "      <td>0.106354</td>\n",
       "      <td>87.500000</td>\n",
       "      <td>0.644728</td>\n",
       "      <td>0.581983</td>\n",
       "      <td>0.312552</td>\n",
       "    </tr>\n",
       "    <tr>\n",
       "      <th>삼성</th>\n",
       "      <td>0.321551</td>\n",
       "      <td>0.374910</td>\n",
       "      <td>0.696461</td>\n",
       "      <td>0.342825</td>\n",
       "      <td>0.303328</td>\n",
       "      <td>0.654674</td>\n",
       "      <td>427.573391</td>\n",
       "      <td>15.836052</td>\n",
       "      <td>525.044</td>\n",
       "      <td>0.123055</td>\n",
       "      <td>102.434783</td>\n",
       "      <td>0.681078</td>\n",
       "      <td>0.524879</td>\n",
       "      <td>0.290694</td>\n",
       "    </tr>\n",
       "    <tr>\n",
       "      <th>한화</th>\n",
       "      <td>0.322889</td>\n",
       "      <td>0.354451</td>\n",
       "      <td>0.677339</td>\n",
       "      <td>0.328838</td>\n",
       "      <td>0.264046</td>\n",
       "      <td>0.613515</td>\n",
       "      <td>394.318694</td>\n",
       "      <td>14.604396</td>\n",
       "      <td>500.026</td>\n",
       "      <td>0.100116</td>\n",
       "      <td>75.099338</td>\n",
       "      <td>0.652585</td>\n",
       "      <td>0.484421</td>\n",
       "      <td>0.310241</td>\n",
       "    </tr>\n",
       "    <tr>\n",
       "      <th>롯데</th>\n",
       "      <td>0.318778</td>\n",
       "      <td>0.360133</td>\n",
       "      <td>0.678911</td>\n",
       "      <td>0.331788</td>\n",
       "      <td>0.262607</td>\n",
       "      <td>0.608909</td>\n",
       "      <td>387.763465</td>\n",
       "      <td>14.361610</td>\n",
       "      <td>485.548</td>\n",
       "      <td>0.105376</td>\n",
       "      <td>65.507463</td>\n",
       "      <td>0.669917</td>\n",
       "      <td>0.476052</td>\n",
       "      <td>0.306129</td>\n",
       "    </tr>\n",
       "    <tr>\n",
       "      <th>SK</th>\n",
       "      <td>0.333988</td>\n",
       "      <td>0.375639</td>\n",
       "      <td>0.709628</td>\n",
       "      <td>0.346445</td>\n",
       "      <td>0.281364</td>\n",
       "      <td>0.662416</td>\n",
       "      <td>448.621706</td>\n",
       "      <td>16.615619</td>\n",
       "      <td>527.092</td>\n",
       "      <td>0.111571</td>\n",
       "      <td>86.896552</td>\n",
       "      <td>0.688036</td>\n",
       "      <td>0.548771</td>\n",
       "      <td>0.303951</td>\n",
       "    </tr>\n",
       "  </tbody>\n",
       "</table>\n",
       "</div>"
      ],
      "text/plain": [
       "                 OBP       SLG       OPS       GPA      SECA        TA  \\\n",
       "Unnamed: 0                                                               \n",
       "두산          0.348405  0.378159  0.726564  0.351813  0.309297  0.698722   \n",
       "KT          0.339951  0.370320  0.710271  0.344211  0.264384  0.656860   \n",
       "키움          0.354248  0.405143  0.759391  0.372162  0.316594  0.731106   \n",
       "KIA         0.335268  0.366901  0.702169  0.340648  0.287042  0.653355   \n",
       "NC          0.352244  0.414410  0.766655  0.378148  0.313755  0.725661   \n",
       "LG          0.336426  0.375169  0.711595  0.346725  0.280306  0.660294   \n",
       "삼성          0.321551  0.374910  0.696461  0.342825  0.303328  0.654674   \n",
       "한화          0.322889  0.354451  0.677339  0.328838  0.264046  0.613515   \n",
       "롯데          0.318778  0.360133  0.678911  0.331788  0.262607  0.608909   \n",
       "SK          0.333988  0.375639  0.709628  0.346445  0.281364  0.662416   \n",
       "\n",
       "                    RC       RC27       XR       ISO         PSR      wOBA  \\\n",
       "Unnamed: 0                                                                   \n",
       "두산          523.284688  19.380914  607.850  0.108741   81.988235  0.650651   \n",
       "KT          481.280829  17.825216  561.990  0.097717   88.491620  0.638638   \n",
       "키움          524.384079  19.421633  598.068  0.122271   92.202128  0.686838   \n",
       "KIA         424.774092  15.732374  505.946  0.104219   70.713287  0.697901   \n",
       "NC          587.084357  21.743865  665.952  0.130568   94.958333  0.641782   \n",
       "LG          480.000407  17.777793  566.392  0.106354   87.500000  0.644728   \n",
       "삼성          427.573391  15.836052  525.044  0.123055  102.434783  0.681078   \n",
       "한화          394.318694  14.604396  500.026  0.100116   75.099338  0.652585   \n",
       "롯데          387.763465  14.361610  485.548  0.105376   65.507463  0.669917   \n",
       "SK          448.621706  16.615619  527.092  0.111571   86.896552  0.688036   \n",
       "\n",
       "                 OW%     BABIP  \n",
       "Unnamed: 0                      \n",
       "두산          0.623304  0.305222  \n",
       "KT          0.583279  0.317922  \n",
       "키움          0.624289  0.328688  \n",
       "KIA         0.521602  0.307163  \n",
       "NC          0.675613  0.319081  \n",
       "LG          0.581983  0.312552  \n",
       "삼성          0.524879  0.290694  \n",
       "한화          0.484421  0.310241  \n",
       "롯데          0.476052  0.306129  \n",
       "SK          0.548771  0.303951  "
      ]
     },
     "execution_count": 5,
     "metadata": {},
     "output_type": "execute_result"
    }
   ],
   "source": [
    "os.chdir(r'C:\\Users\\jaij2\\OneDrive\\바탕 화면\\논문\\야구데이터\\전처리')\n",
    "Saber = pd.read_csv('2019_타자_팀별_Saber.csv', encoding = 'cp949')\n",
    "Saber.index = Saber['Unnamed: 0']\n",
    "#Saber = Saber[Saber['PA'] >= math.trunc(144 * 3.1)]\n",
    "#Saber = Saber[Saber['PA'] >= 144]\n",
    "#Saber = Saber.replace(np.NaN, 0)\n",
    "HIT3 = Saber['H3']\n",
    "SB = Saber['SB']\n",
    "rec = Saber[['RBI', 'RUN', 'HIT']]\n",
    "Saber = Saber.iloc[:, -14:]\n",
    "#Saber = Saber.drop(columns = ['Money_20'])\n",
    "#Saber = Saber.drop('김태근') ## 에러값이 너무 많음 출전 수가 없어서\n",
    "#Saber = Saber.drop('나종덕') ## RC 음수 나옴\n",
    "#Saber = Saber.drop(['RC27', 'RC', 'XR'], axis = 1) \n",
    "Saber"
   ]
  },
  {
   "cell_type": "code",
   "execution_count": 6,
   "id": "01dae0aa",
   "metadata": {
    "ExecuteTime": {
     "end_time": "2021-11-13T05:29:31.857379Z",
     "start_time": "2021-11-13T05:29:31.830362Z"
    },
    "scrolled": true
   },
   "outputs": [
    {
     "data": {
      "text/html": [
       "<div>\n",
       "<style scoped>\n",
       "    .dataframe tbody tr th:only-of-type {\n",
       "        vertical-align: middle;\n",
       "    }\n",
       "\n",
       "    .dataframe tbody tr th {\n",
       "        vertical-align: top;\n",
       "    }\n",
       "\n",
       "    .dataframe thead th {\n",
       "        text-align: right;\n",
       "    }\n",
       "</style>\n",
       "<table border=\"1\" class=\"dataframe\">\n",
       "  <thead>\n",
       "    <tr style=\"text-align: right;\">\n",
       "      <th></th>\n",
       "      <th>0</th>\n",
       "      <th>1</th>\n",
       "      <th>2</th>\n",
       "      <th>3</th>\n",
       "      <th>4</th>\n",
       "      <th>5</th>\n",
       "      <th>6</th>\n",
       "      <th>7</th>\n",
       "      <th>8</th>\n",
       "      <th>9</th>\n",
       "      <th>10</th>\n",
       "      <th>11</th>\n",
       "      <th>12</th>\n",
       "      <th>13</th>\n",
       "    </tr>\n",
       "  </thead>\n",
       "  <tbody>\n",
       "    <tr>\n",
       "      <th>0</th>\n",
       "      <td>1.000128</td>\n",
       "      <td>0.035864</td>\n",
       "      <td>0.446358</td>\n",
       "      <td>0.230923</td>\n",
       "      <td>1.044849</td>\n",
       "      <td>0.822536</td>\n",
       "      <td>0.916817</td>\n",
       "      <td>0.916817</td>\n",
       "      <td>0.991662</td>\n",
       "      <td>-0.219828</td>\n",
       "      <td>-0.239897</td>\n",
       "      <td>-0.696140</td>\n",
       "      <td>0.956119</td>\n",
       "      <td>-0.505500</td>\n",
       "    </tr>\n",
       "    <tr>\n",
       "      <th>1</th>\n",
       "      <td>0.297291</td>\n",
       "      <td>-0.406588</td>\n",
       "      <td>-0.127848</td>\n",
       "      <td>-0.277496</td>\n",
       "      <td>-1.187162</td>\n",
       "      <td>-0.247792</td>\n",
       "      <td>0.221393</td>\n",
       "      <td>0.221393</td>\n",
       "      <td>0.140964</td>\n",
       "      <td>-1.293232</td>\n",
       "      <td>0.362257</td>\n",
       "      <td>-1.270302</td>\n",
       "      <td>0.306221</td>\n",
       "      <td>0.793473</td>\n",
       "    </tr>\n",
       "    <tr>\n",
       "      <th>2</th>\n",
       "      <td>1.485803</td>\n",
       "      <td>1.558828</td>\n",
       "      <td>1.603177</td>\n",
       "      <td>1.592024</td>\n",
       "      <td>1.407447</td>\n",
       "      <td>1.650534</td>\n",
       "      <td>0.935019</td>\n",
       "      <td>0.935019</td>\n",
       "      <td>0.810207</td>\n",
       "      <td>1.097543</td>\n",
       "      <td>0.705817</td>\n",
       "      <td>1.033485</td>\n",
       "      <td>0.972114</td>\n",
       "      <td>1.894592</td>\n",
       "    </tr>\n",
       "    <tr>\n",
       "      <th>3</th>\n",
       "      <td>-0.092019</td>\n",
       "      <td>-0.599530</td>\n",
       "      <td>-0.413353</td>\n",
       "      <td>-0.515864</td>\n",
       "      <td>-0.061159</td>\n",
       "      <td>-0.337399</td>\n",
       "      <td>-0.714142</td>\n",
       "      <td>-0.714142</td>\n",
       "      <td>-0.898645</td>\n",
       "      <td>-0.660132</td>\n",
       "      <td>-1.283856</td>\n",
       "      <td>1.562284</td>\n",
       "      <td>-0.695234</td>\n",
       "      <td>-0.306981</td>\n",
       "    </tr>\n",
       "    <tr>\n",
       "      <th>4</th>\n",
       "      <td>1.319248</td>\n",
       "      <td>2.081872</td>\n",
       "      <td>1.859159</td>\n",
       "      <td>1.992425</td>\n",
       "      <td>1.266390</td>\n",
       "      <td>1.511319</td>\n",
       "      <td>1.973096</td>\n",
       "      <td>1.973096</td>\n",
       "      <td>2.069447</td>\n",
       "      <td>1.905405</td>\n",
       "      <td>0.961016</td>\n",
       "      <td>-1.120042</td>\n",
       "      <td>1.805459</td>\n",
       "      <td>0.911946</td>\n",
       "    </tr>\n",
       "    <tr>\n",
       "      <th>5</th>\n",
       "      <td>0.004258</td>\n",
       "      <td>-0.132893</td>\n",
       "      <td>-0.081173</td>\n",
       "      <td>-0.109388</td>\n",
       "      <td>-0.395869</td>\n",
       "      <td>-0.159983</td>\n",
       "      <td>0.200195</td>\n",
       "      <td>0.200195</td>\n",
       "      <td>0.222621</td>\n",
       "      <td>-0.452228</td>\n",
       "      <td>0.270442</td>\n",
       "      <td>-0.979220</td>\n",
       "      <td>0.285184</td>\n",
       "      <td>0.244243</td>\n",
       "    </tr>\n",
       "    <tr>\n",
       "      <th>6</th>\n",
       "      <td>-1.232333</td>\n",
       "      <td>-0.147498</td>\n",
       "      <td>-0.614496</td>\n",
       "      <td>-0.370238</td>\n",
       "      <td>0.748182</td>\n",
       "      <td>-0.303677</td>\n",
       "      <td>-0.667796</td>\n",
       "      <td>-0.667796</td>\n",
       "      <td>-0.544380</td>\n",
       "      <td>1.173888</td>\n",
       "      <td>1.653268</td>\n",
       "      <td>0.758166</td>\n",
       "      <td>-0.642023</td>\n",
       "      <td>-1.991385</td>\n",
       "    </tr>\n",
       "    <tr>\n",
       "      <th>7</th>\n",
       "      <td>-1.121137</td>\n",
       "      <td>-1.302211</td>\n",
       "      <td>-1.288360</td>\n",
       "      <td>-1.305791</td>\n",
       "      <td>-1.203925</td>\n",
       "      <td>-1.356027</td>\n",
       "      <td>-1.218367</td>\n",
       "      <td>-1.218367</td>\n",
       "      <td>-1.008461</td>\n",
       "      <td>-1.059673</td>\n",
       "      <td>-0.877747</td>\n",
       "      <td>-0.603718</td>\n",
       "      <td>-1.298937</td>\n",
       "      <td>0.007831</td>\n",
       "    </tr>\n",
       "    <tr>\n",
       "      <th>8</th>\n",
       "      <td>-1.462839</td>\n",
       "      <td>-0.981504</td>\n",
       "      <td>-1.232961</td>\n",
       "      <td>-1.108472</td>\n",
       "      <td>-1.275447</td>\n",
       "      <td>-1.473787</td>\n",
       "      <td>-1.326897</td>\n",
       "      <td>-1.326897</td>\n",
       "      <td>-1.277026</td>\n",
       "      <td>-0.547492</td>\n",
       "      <td>-1.765868</td>\n",
       "      <td>0.224739</td>\n",
       "      <td>-1.434819</td>\n",
       "      <td>-0.412761</td>\n",
       "    </tr>\n",
       "    <tr>\n",
       "      <th>9</th>\n",
       "      <td>-0.198399</td>\n",
       "      <td>-0.106340</td>\n",
       "      <td>-0.150502</td>\n",
       "      <td>-0.128124</td>\n",
       "      <td>-0.343304</td>\n",
       "      <td>-0.105723</td>\n",
       "      <td>-0.319317</td>\n",
       "      <td>-0.319317</td>\n",
       "      <td>-0.506389</td>\n",
       "      <td>0.055748</td>\n",
       "      <td>0.214568</td>\n",
       "      <td>1.090749</td>\n",
       "      <td>-0.254086</td>\n",
       "      <td>-0.635458</td>\n",
       "    </tr>\n",
       "  </tbody>\n",
       "</table>\n",
       "</div>"
      ],
      "text/plain": [
       "         0         1         2         3         4         5         6   \\\n",
       "0  1.000128  0.035864  0.446358  0.230923  1.044849  0.822536  0.916817   \n",
       "1  0.297291 -0.406588 -0.127848 -0.277496 -1.187162 -0.247792  0.221393   \n",
       "2  1.485803  1.558828  1.603177  1.592024  1.407447  1.650534  0.935019   \n",
       "3 -0.092019 -0.599530 -0.413353 -0.515864 -0.061159 -0.337399 -0.714142   \n",
       "4  1.319248  2.081872  1.859159  1.992425  1.266390  1.511319  1.973096   \n",
       "5  0.004258 -0.132893 -0.081173 -0.109388 -0.395869 -0.159983  0.200195   \n",
       "6 -1.232333 -0.147498 -0.614496 -0.370238  0.748182 -0.303677 -0.667796   \n",
       "7 -1.121137 -1.302211 -1.288360 -1.305791 -1.203925 -1.356027 -1.218367   \n",
       "8 -1.462839 -0.981504 -1.232961 -1.108472 -1.275447 -1.473787 -1.326897   \n",
       "9 -0.198399 -0.106340 -0.150502 -0.128124 -0.343304 -0.105723 -0.319317   \n",
       "\n",
       "         7         8         9         10        11        12        13  \n",
       "0  0.916817  0.991662 -0.219828 -0.239897 -0.696140  0.956119 -0.505500  \n",
       "1  0.221393  0.140964 -1.293232  0.362257 -1.270302  0.306221  0.793473  \n",
       "2  0.935019  0.810207  1.097543  0.705817  1.033485  0.972114  1.894592  \n",
       "3 -0.714142 -0.898645 -0.660132 -1.283856  1.562284 -0.695234 -0.306981  \n",
       "4  1.973096  2.069447  1.905405  0.961016 -1.120042  1.805459  0.911946  \n",
       "5  0.200195  0.222621 -0.452228  0.270442 -0.979220  0.285184  0.244243  \n",
       "6 -0.667796 -0.544380  1.173888  1.653268  0.758166 -0.642023 -1.991385  \n",
       "7 -1.218367 -1.008461 -1.059673 -0.877747 -0.603718 -1.298937  0.007831  \n",
       "8 -1.326897 -1.277026 -0.547492 -1.765868  0.224739 -1.434819 -0.412761  \n",
       "9 -0.319317 -0.506389  0.055748  0.214568  1.090749 -0.254086 -0.635458  "
      ]
     },
     "execution_count": 6,
     "metadata": {},
     "output_type": "execute_result"
    }
   ],
   "source": [
    "Scaled_Saber = StandardScaler().fit_transform(Saber)\n",
    "pd.DataFrame(Scaled_Saber)"
   ]
  },
  {
   "cell_type": "code",
   "execution_count": 26,
   "id": "31f73d42",
   "metadata": {
    "ExecuteTime": {
     "end_time": "2021-11-13T05:46:43.326219Z",
     "start_time": "2021-11-13T05:46:43.322218Z"
    },
    "scrolled": true
   },
   "outputs": [],
   "source": [
    "pca = PCA(n_components = 3)\n",
    "PC = pca.fit_transform(Scaled_Saber)\n",
    "principals = pd.DataFrame(data = PC, columns = ['PC1', 'PC2', 'PC3'])"
   ]
  },
  {
   "cell_type": "code",
   "execution_count": 27,
   "id": "6fb24594",
   "metadata": {
    "ExecuteTime": {
     "end_time": "2021-11-13T05:46:43.606409Z",
     "start_time": "2021-11-13T05:46:43.582399Z"
    }
   },
   "outputs": [
    {
     "data": {
      "text/html": [
       "<div>\n",
       "<style scoped>\n",
       "    .dataframe tbody tr th:only-of-type {\n",
       "        vertical-align: middle;\n",
       "    }\n",
       "\n",
       "    .dataframe tbody tr th {\n",
       "        vertical-align: top;\n",
       "    }\n",
       "\n",
       "    .dataframe thead th {\n",
       "        text-align: right;\n",
       "    }\n",
       "</style>\n",
       "<table border=\"1\" class=\"dataframe\">\n",
       "  <thead>\n",
       "    <tr style=\"text-align: right;\">\n",
       "      <th></th>\n",
       "      <th>0</th>\n",
       "      <th>1</th>\n",
       "      <th>2</th>\n",
       "      <th>3</th>\n",
       "      <th>4</th>\n",
       "      <th>5</th>\n",
       "      <th>6</th>\n",
       "      <th>7</th>\n",
       "      <th>8</th>\n",
       "      <th>9</th>\n",
       "      <th>10</th>\n",
       "      <th>11</th>\n",
       "      <th>12</th>\n",
       "      <th>13</th>\n",
       "    </tr>\n",
       "  </thead>\n",
       "  <tbody>\n",
       "    <tr>\n",
       "      <th>0</th>\n",
       "      <td>0.283649</td>\n",
       "      <td>0.298875</td>\n",
       "      <td>0.306859</td>\n",
       "      <td>0.304993</td>\n",
       "      <td>0.254899</td>\n",
       "      <td>0.303164</td>\n",
       "      <td>0.302595</td>\n",
       "      <td>0.302595</td>\n",
       "      <td>0.298214</td>\n",
       "      <td>0.222762</td>\n",
       "      <td>0.195873</td>\n",
       "      <td>-0.068027</td>\n",
       "      <td>0.301323</td>\n",
       "      <td>0.175160</td>\n",
       "    </tr>\n",
       "    <tr>\n",
       "      <th>1</th>\n",
       "      <td>-0.170874</td>\n",
       "      <td>0.117013</td>\n",
       "      <td>0.000628</td>\n",
       "      <td>0.062701</td>\n",
       "      <td>0.352000</td>\n",
       "      <td>0.077199</td>\n",
       "      <td>-0.131328</td>\n",
       "      <td>-0.131328</td>\n",
       "      <td>-0.140102</td>\n",
       "      <td>0.444491</td>\n",
       "      <td>0.267882</td>\n",
       "      <td>0.561240</td>\n",
       "      <td>-0.130154</td>\n",
       "      <td>-0.409791</td>\n",
       "    </tr>\n",
       "    <tr>\n",
       "      <th>2</th>\n",
       "      <td>0.240568</td>\n",
       "      <td>0.070280</td>\n",
       "      <td>0.145862</td>\n",
       "      <td>0.106691</td>\n",
       "      <td>0.027630</td>\n",
       "      <td>0.122206</td>\n",
       "      <td>-0.084393</td>\n",
       "      <td>-0.084393</td>\n",
       "      <td>-0.167646</td>\n",
       "      <td>-0.118399</td>\n",
       "      <td>-0.509080</td>\n",
       "      <td>0.589690</td>\n",
       "      <td>-0.083781</td>\n",
       "      <td>0.467491</td>\n",
       "    </tr>\n",
       "  </tbody>\n",
       "</table>\n",
       "</div>"
      ],
      "text/plain": [
       "         0         1         2         3         4         5         6   \\\n",
       "0  0.283649  0.298875  0.306859  0.304993  0.254899  0.303164  0.302595   \n",
       "1 -0.170874  0.117013  0.000628  0.062701  0.352000  0.077199 -0.131328   \n",
       "2  0.240568  0.070280  0.145862  0.106691  0.027630  0.122206 -0.084393   \n",
       "\n",
       "         7         8         9         10        11        12        13  \n",
       "0  0.302595  0.298214  0.222762  0.195873 -0.068027  0.301323  0.175160  \n",
       "1 -0.131328 -0.140102  0.444491  0.267882  0.561240 -0.130154 -0.409791  \n",
       "2 -0.084393 -0.167646 -0.118399 -0.509080  0.589690 -0.083781  0.467491  "
      ]
     },
     "execution_count": 27,
     "metadata": {},
     "output_type": "execute_result"
    }
   ],
   "source": [
    "pd.DataFrame(pca.components_)"
   ]
  },
  {
   "cell_type": "code",
   "execution_count": 29,
   "id": "8c008170",
   "metadata": {
    "ExecuteTime": {
     "end_time": "2021-11-07T10:42:09.758863Z",
     "start_time": "2021-11-07T10:42:09.754862Z"
    },
    "collapsed": true
   },
   "outputs": [
    {
     "ename": "SyntaxError",
     "evalue": "invalid syntax (<ipython-input-29-14983e9084aa>, line 1)",
     "output_type": "error",
     "traceback": [
      "\u001b[1;36m  File \u001b[1;32m\"<ipython-input-29-14983e9084aa>\"\u001b[1;36m, line \u001b[1;32m1\u001b[0m\n\u001b[1;33m    prin1: 전반적인 타자지표\u001b[0m\n\u001b[1;37m                ^\u001b[0m\n\u001b[1;31mSyntaxError\u001b[0m\u001b[1;31m:\u001b[0m invalid syntax\n"
     ]
    }
   ],
   "source": [
    "prin1: 전반적인 타자지표\n",
    "prin2: SECA, ISO, wOBA 장타율 + 타자생산력\n",
    "prin3: PSN 호타준족 홈런과 도루 -> 도루 쪽에 더 무게를 둔것같음"
   ]
  },
  {
   "cell_type": "code",
   "execution_count": 19,
   "id": "5f4bd420",
   "metadata": {
    "ExecuteTime": {
     "end_time": "2021-11-13T05:30:38.155482Z",
     "start_time": "2021-11-13T05:30:38.152488Z"
    }
   },
   "outputs": [
    {
     "data": {
      "text/plain": [
       "array([0.7403376 , 0.12801059, 0.07265382])"
      ]
     },
     "execution_count": 19,
     "metadata": {},
     "output_type": "execute_result"
    }
   ],
   "source": [
    "pca.explained_variance_ratio_"
   ]
  },
  {
   "cell_type": "code",
   "execution_count": 20,
   "id": "e0bbcc19",
   "metadata": {
    "ExecuteTime": {
     "end_time": "2021-11-13T05:30:38.373900Z",
     "start_time": "2021-11-13T05:30:38.356881Z"
    }
   },
   "outputs": [
    {
     "data": {
      "text/plain": [
       "0.9410020073166859"
      ]
     },
     "execution_count": 20,
     "metadata": {},
     "output_type": "execute_result"
    }
   ],
   "source": [
    "sum(pca.explained_variance_ratio_)"
   ]
  },
  {
   "cell_type": "code",
   "execution_count": 21,
   "id": "7de7b864",
   "metadata": {
    "ExecuteTime": {
     "end_time": "2021-11-13T05:30:39.409815Z",
     "start_time": "2021-11-13T05:30:39.404815Z"
    }
   },
   "outputs": [
    {
     "data": {
      "text/plain": [
       "array([11.51636265,  1.99127585,  1.1301705 ])"
      ]
     },
     "execution_count": 21,
     "metadata": {},
     "output_type": "execute_result"
    }
   ],
   "source": [
    "## eigen_value 고유값\n",
    "pca.explained_variance_"
   ]
  },
  {
   "cell_type": "code",
   "execution_count": 22,
   "id": "be0fab1e",
   "metadata": {
    "ExecuteTime": {
     "end_time": "2021-11-13T05:30:44.302327Z",
     "start_time": "2021-11-13T05:30:44.284335Z"
    },
    "scrolled": true
   },
   "outputs": [
    {
     "data": {
      "text/html": [
       "<div>\n",
       "<style scoped>\n",
       "    .dataframe tbody tr th:only-of-type {\n",
       "        vertical-align: middle;\n",
       "    }\n",
       "\n",
       "    .dataframe tbody tr th {\n",
       "        vertical-align: top;\n",
       "    }\n",
       "\n",
       "    .dataframe thead th {\n",
       "        text-align: right;\n",
       "    }\n",
       "</style>\n",
       "<table border=\"1\" class=\"dataframe\">\n",
       "  <thead>\n",
       "    <tr style=\"text-align: right;\">\n",
       "      <th></th>\n",
       "      <th>OBP</th>\n",
       "      <th>SLG</th>\n",
       "      <th>OPS</th>\n",
       "      <th>GPA</th>\n",
       "      <th>SECA</th>\n",
       "      <th>TA</th>\n",
       "      <th>RC</th>\n",
       "      <th>RC27</th>\n",
       "      <th>XR</th>\n",
       "      <th>ISO</th>\n",
       "      <th>PSR</th>\n",
       "      <th>wOBA</th>\n",
       "      <th>OW%</th>\n",
       "      <th>BABIP</th>\n",
       "    </tr>\n",
       "  </thead>\n",
       "  <tbody>\n",
       "    <tr>\n",
       "      <th>P1</th>\n",
       "      <td>0.283649</td>\n",
       "      <td>0.298875</td>\n",
       "      <td>0.306859</td>\n",
       "      <td>0.304993</td>\n",
       "      <td>0.254899</td>\n",
       "      <td>0.303164</td>\n",
       "      <td>0.302595</td>\n",
       "      <td>0.302595</td>\n",
       "      <td>0.298214</td>\n",
       "      <td>0.222762</td>\n",
       "      <td>0.195873</td>\n",
       "      <td>-0.068027</td>\n",
       "      <td>0.301323</td>\n",
       "      <td>0.175160</td>\n",
       "    </tr>\n",
       "    <tr>\n",
       "      <th>P2</th>\n",
       "      <td>-0.170874</td>\n",
       "      <td>0.117013</td>\n",
       "      <td>0.000628</td>\n",
       "      <td>0.062701</td>\n",
       "      <td>0.352000</td>\n",
       "      <td>0.077199</td>\n",
       "      <td>-0.131328</td>\n",
       "      <td>-0.131328</td>\n",
       "      <td>-0.140102</td>\n",
       "      <td>0.444491</td>\n",
       "      <td>0.267882</td>\n",
       "      <td>0.561240</td>\n",
       "      <td>-0.130154</td>\n",
       "      <td>-0.409791</td>\n",
       "    </tr>\n",
       "    <tr>\n",
       "      <th>P3</th>\n",
       "      <td>0.240568</td>\n",
       "      <td>0.070280</td>\n",
       "      <td>0.145862</td>\n",
       "      <td>0.106691</td>\n",
       "      <td>0.027630</td>\n",
       "      <td>0.122206</td>\n",
       "      <td>-0.084393</td>\n",
       "      <td>-0.084393</td>\n",
       "      <td>-0.167646</td>\n",
       "      <td>-0.118399</td>\n",
       "      <td>-0.509080</td>\n",
       "      <td>0.589690</td>\n",
       "      <td>-0.083781</td>\n",
       "      <td>0.467491</td>\n",
       "    </tr>\n",
       "  </tbody>\n",
       "</table>\n",
       "</div>"
      ],
      "text/plain": [
       "         OBP       SLG       OPS       GPA      SECA        TA        RC  \\\n",
       "P1  0.283649  0.298875  0.306859  0.304993  0.254899  0.303164  0.302595   \n",
       "P2 -0.170874  0.117013  0.000628  0.062701  0.352000  0.077199 -0.131328   \n",
       "P3  0.240568  0.070280  0.145862  0.106691  0.027630  0.122206 -0.084393   \n",
       "\n",
       "        RC27        XR       ISO       PSR      wOBA       OW%     BABIP  \n",
       "P1  0.302595  0.298214  0.222762  0.195873 -0.068027  0.301323  0.175160  \n",
       "P2 -0.131328 -0.140102  0.444491  0.267882  0.561240 -0.130154 -0.409791  \n",
       "P3 -0.084393 -0.167646 -0.118399 -0.509080  0.589690 -0.083781  0.467491  "
      ]
     },
     "execution_count": 22,
     "metadata": {},
     "output_type": "execute_result"
    }
   ],
   "source": [
    "prins = pd.DataFrame(pca.components_)\n",
    "prins.columns = Saber.columns\n",
    "prins.index = ['P1', 'P2', 'P3']\n",
    "prins"
   ]
  },
  {
   "cell_type": "code",
   "execution_count": 23,
   "id": "a239ce11",
   "metadata": {
    "ExecuteTime": {
     "end_time": "2021-11-13T05:31:34.267790Z",
     "start_time": "2021-11-13T05:31:34.250773Z"
    }
   },
   "outputs": [],
   "source": [
    "os.chdir(r'C:\\Users\\jaij2\\OneDrive\\바탕 화면\\논문\\야구데이터\\주성분')\n",
    "prins.to_csv('2019_타자_팀별_주성분3개_규정타석_SM.csv', encoding = 'cp949')"
   ]
  },
  {
   "cell_type": "code",
   "execution_count": null,
   "id": "ca617b92",
   "metadata": {},
   "outputs": [],
   "source": []
  },
  {
   "cell_type": "code",
   "execution_count": null,
   "id": "fb2412a7",
   "metadata": {},
   "outputs": [],
   "source": [
    "2번째 주성분은 순장타율이랑 단타를 제외한 장타의 비율이므로 장타를 잘 치는 타자의 성질이고\n",
    "1번째 주성분은 균등하게 가지고 있는 타자 전반적인 비율"
   ]
  },
  {
   "cell_type": "code",
   "execution_count": 23,
   "id": "8ef13791",
   "metadata": {
    "ExecuteTime": {
     "end_time": "2021-10-10T11:59:12.285424Z",
     "start_time": "2021-10-10T11:59:12.267421Z"
    }
   },
   "outputs": [
    {
     "data": {
      "text/html": [
       "<div>\n",
       "<style scoped>\n",
       "    .dataframe tbody tr th:only-of-type {\n",
       "        vertical-align: middle;\n",
       "    }\n",
       "\n",
       "    .dataframe tbody tr th {\n",
       "        vertical-align: top;\n",
       "    }\n",
       "\n",
       "    .dataframe thead th {\n",
       "        text-align: right;\n",
       "    }\n",
       "</style>\n",
       "<table border=\"1\" class=\"dataframe\">\n",
       "  <thead>\n",
       "    <tr style=\"text-align: right;\">\n",
       "      <th></th>\n",
       "      <th>PC1</th>\n",
       "      <th>PC2</th>\n",
       "      <th>Money_19</th>\n",
       "    </tr>\n",
       "  </thead>\n",
       "  <tbody>\n",
       "    <tr>\n",
       "      <th>0</th>\n",
       "      <td>1.696881</td>\n",
       "      <td>0.365679</td>\n",
       "      <td>250000</td>\n",
       "    </tr>\n",
       "    <tr>\n",
       "      <th>1</th>\n",
       "      <td>6.704988</td>\n",
       "      <td>2.602923</td>\n",
       "      <td>150000</td>\n",
       "    </tr>\n",
       "    <tr>\n",
       "      <th>2</th>\n",
       "      <td>7.223093</td>\n",
       "      <td>0.305748</td>\n",
       "      <td>200000</td>\n",
       "    </tr>\n",
       "    <tr>\n",
       "      <th>3</th>\n",
       "      <td>1.161776</td>\n",
       "      <td>-1.240001</td>\n",
       "      <td>150000</td>\n",
       "    </tr>\n",
       "    <tr>\n",
       "      <th>4</th>\n",
       "      <td>4.888142</td>\n",
       "      <td>0.510216</td>\n",
       "      <td>150000</td>\n",
       "    </tr>\n",
       "    <tr>\n",
       "      <th>...</th>\n",
       "      <td>...</td>\n",
       "      <td>...</td>\n",
       "      <td>...</td>\n",
       "    </tr>\n",
       "    <tr>\n",
       "      <th>100</th>\n",
       "      <td>-3.855241</td>\n",
       "      <td>1.116384</td>\n",
       "      <td>4900</td>\n",
       "    </tr>\n",
       "    <tr>\n",
       "      <th>101</th>\n",
       "      <td>-3.084625</td>\n",
       "      <td>-0.014060</td>\n",
       "      <td>3000</td>\n",
       "    </tr>\n",
       "    <tr>\n",
       "      <th>102</th>\n",
       "      <td>-2.086421</td>\n",
       "      <td>2.833920</td>\n",
       "      <td>4000</td>\n",
       "    </tr>\n",
       "    <tr>\n",
       "      <th>103</th>\n",
       "      <td>-4.587613</td>\n",
       "      <td>-0.163248</td>\n",
       "      <td>3000</td>\n",
       "    </tr>\n",
       "    <tr>\n",
       "      <th>104</th>\n",
       "      <td>-4.993137</td>\n",
       "      <td>0.635819</td>\n",
       "      <td>2700</td>\n",
       "    </tr>\n",
       "  </tbody>\n",
       "</table>\n",
       "<p>105 rows × 3 columns</p>\n",
       "</div>"
      ],
      "text/plain": [
       "          PC1       PC2  Money_19\n",
       "0    1.696881  0.365679    250000\n",
       "1    6.704988  2.602923    150000\n",
       "2    7.223093  0.305748    200000\n",
       "3    1.161776 -1.240001    150000\n",
       "4    4.888142  0.510216    150000\n",
       "..        ...       ...       ...\n",
       "100 -3.855241  1.116384      4900\n",
       "101 -3.084625 -0.014060      3000\n",
       "102 -2.086421  2.833920      4000\n",
       "103 -4.587613 -0.163248      3000\n",
       "104 -4.993137  0.635819      2700\n",
       "\n",
       "[105 rows x 3 columns]"
      ]
     },
     "execution_count": 23,
     "metadata": {},
     "output_type": "execute_result"
    }
   ],
   "source": [
    "principals['Money_19'] = y\n",
    "principals"
   ]
  },
  {
   "cell_type": "code",
   "execution_count": 27,
   "id": "99a5028b",
   "metadata": {
    "ExecuteTime": {
     "end_time": "2021-10-10T11:59:28.078839Z",
     "start_time": "2021-10-10T11:59:28.073831Z"
    }
   },
   "outputs": [
    {
     "data": {
      "text/plain": [
       "0.9459665264107409"
      ]
     },
     "execution_count": 27,
     "metadata": {},
     "output_type": "execute_result"
    }
   ],
   "source": [
    "sum(pca.explained_variance_ratio_)"
   ]
  },
  {
   "cell_type": "code",
   "execution_count": 134,
   "id": "e3da1dcb",
   "metadata": {
    "ExecuteTime": {
     "end_time": "2021-10-09T14:02:36.421985Z",
     "start_time": "2021-10-09T14:02:36.405982Z"
    }
   },
   "outputs": [
    {
     "data": {
      "text/plain": [
       "array([2.39104022, 0.31502439])"
      ]
     },
     "execution_count": 134,
     "metadata": {},
     "output_type": "execute_result"
    }
   ],
   "source": [
    "pca.explained_variance_"
   ]
  },
  {
   "cell_type": "code",
   "execution_count": 135,
   "id": "02f02b86",
   "metadata": {
    "ExecuteTime": {
     "end_time": "2021-10-09T14:02:36.938955Z",
     "start_time": "2021-10-09T14:02:36.931954Z"
    },
    "scrolled": true
   },
   "outputs": [
    {
     "data": {
      "text/plain": [
       "array([[-1.42758619e+00, -2.82538316e-01],\n",
       "       [-2.18652949e+00, -1.04051511e+00],\n",
       "       [-1.93275307e+00, -7.57120650e-01],\n",
       "       [-1.45448461e+00,  2.70477325e-01],\n",
       "       [-1.94713675e+00, -5.75545399e-01],\n",
       "       [-1.84663051e+00, -2.06137499e-02],\n",
       "       [-7.64484918e-01, -1.12553763e-01],\n",
       "       [-9.86587881e-02, -6.22093410e-01],\n",
       "       [-9.65071174e-01, -3.41288462e-01],\n",
       "       [-2.35389049e+00, -6.79359283e-01],\n",
       "       [-1.54113376e+00, -4.32732508e-01],\n",
       "       [ 1.47854448e+00,  1.59722374e-01],\n",
       "       [-1.21442656e+00, -8.95565569e-01],\n",
       "       [-7.21636085e-01,  1.09839615e-01],\n",
       "       [-1.73538041e+00, -2.31394256e-01],\n",
       "       [ 2.64060906e+00, -1.39903010e+00],\n",
       "       [-1.05344735e+00, -9.43668267e-02],\n",
       "       [-2.46243575e+00, -4.07604021e-01],\n",
       "       [-1.63438393e+00,  4.96877337e-01],\n",
       "       [-1.03361019e+00,  2.11230978e-01],\n",
       "       [-1.24959305e+00, -7.61325923e-01],\n",
       "       [-1.72693394e+00, -1.25823236e-03],\n",
       "       [-2.01546844e+00, -2.97918644e-01],\n",
       "       [-1.12988976e+00,  5.18570952e-01],\n",
       "       [-1.89655360e+00, -6.07503100e-01],\n",
       "       [-6.60616235e-01,  4.29377290e-01],\n",
       "       [-1.77646747e+00, -1.78082082e-01],\n",
       "       [ 5.89831689e-02,  4.61307691e-01],\n",
       "       [-5.86862894e-01, -2.53807818e-01],\n",
       "       [-9.63873963e-02, -5.62342187e-02],\n",
       "       [-2.11621441e+00,  2.66654560e-01],\n",
       "       [-5.21966492e-01,  2.05019125e-01],\n",
       "       [ 6.50017815e-01,  2.65758170e-01],\n",
       "       [-1.05889944e+00,  4.12655701e-01],\n",
       "       [-8.22956555e-01,  6.21387409e-01],\n",
       "       [-1.39459357e+00,  1.40168834e-01],\n",
       "       [-7.97225995e-01,  3.86963274e-01],\n",
       "       [-8.07157653e-01, -4.78492028e-01],\n",
       "       [-9.00367712e-01, -7.38094180e-01],\n",
       "       [ 2.79076673e+00, -6.29482703e-01],\n",
       "       [-8.42259230e-01, -4.74019785e-01],\n",
       "       [ 7.41923466e-01,  1.24290950e+00],\n",
       "       [-7.71709171e-01,  1.07696701e-01],\n",
       "       [-1.45155230e+00,  8.33811488e-01],\n",
       "       [-1.38580310e+00, -4.03612740e-01],\n",
       "       [ 2.93995724e-01, -1.15769358e-02],\n",
       "       [-1.00024788e+00, -1.52632577e-01],\n",
       "       [-2.41402577e-01,  3.26042232e-01],\n",
       "       [-9.79894101e-01,  4.79508982e-01],\n",
       "       [-8.76634889e-01,  8.59837742e-01],\n",
       "       [-1.07937044e+00,  8.32510601e-02],\n",
       "       [-7.22527499e-01, -4.06481485e-01],\n",
       "       [-6.23074381e-01, -4.35442973e-01],\n",
       "       [-1.56962990e-01,  6.43078283e-01],\n",
       "       [-1.79357283e+00, -3.30951832e-01],\n",
       "       [ 2.15609806e-01,  8.55465451e-01],\n",
       "       [-1.18739741e+00, -3.30311709e-01],\n",
       "       [-4.94482585e-01,  4.57644479e-01],\n",
       "       [-7.51435184e-01,  3.22998442e-01],\n",
       "       [ 3.41191065e+00, -2.37413867e-02],\n",
       "       [-1.34075683e+00,  3.96714952e-01],\n",
       "       [-4.95088177e-01, -6.35974852e-01],\n",
       "       [-2.20683638e-01, -5.52699625e-02],\n",
       "       [ 2.11632869e+00, -6.22346825e-01],\n",
       "       [ 2.87117340e-01,  2.95925390e-01],\n",
       "       [-1.47046415e-01,  7.25649893e-01],\n",
       "       [ 6.91581436e-01,  1.40800011e+00],\n",
       "       [ 2.81043940e+00, -5.20262623e-01],\n",
       "       [ 6.25634914e-01,  3.81843140e-01],\n",
       "       [ 4.01614291e-01, -6.09484912e-01],\n",
       "       [-1.27879809e+00,  2.85549495e-01],\n",
       "       [ 2.47362270e+00, -6.21825014e-02],\n",
       "       [ 8.68985759e-01,  8.50908206e-01],\n",
       "       [-5.41145925e-01,  8.39351098e-01],\n",
       "       [ 1.93265504e+00,  1.24867346e-01],\n",
       "       [ 3.93055373e-01,  5.21601137e-01],\n",
       "       [ 1.84301415e+00,  1.25737248e+00],\n",
       "       [-1.54880028e-01,  2.50612950e-01],\n",
       "       [ 1.92953119e+00, -1.07726268e+00],\n",
       "       [-6.55561235e-02,  5.76861774e-02],\n",
       "       [-3.68710188e-01,  1.72723116e+00],\n",
       "       [-2.09620041e-01,  1.12763058e-01],\n",
       "       [-3.10929187e-01,  6.33926323e-02],\n",
       "       [ 4.21519664e-01,  4.12281723e-01],\n",
       "       [-7.32571219e-01, -3.92101321e-02],\n",
       "       [ 1.05351956e+00, -3.44300399e-01],\n",
       "       [ 1.88065761e+00, -8.59253584e-03],\n",
       "       [ 1.74034331e+00, -6.75654399e-02],\n",
       "       [ 3.12476081e+00,  1.89212635e-01],\n",
       "       [ 5.04852801e-02,  7.01301083e-02],\n",
       "       [ 5.97613920e-01, -4.71926603e-01],\n",
       "       [ 1.44889346e+00,  1.03533098e-01],\n",
       "       [ 2.20794651e+00, -5.63666780e-02],\n",
       "       [ 2.00604062e+00,  1.42771157e-01],\n",
       "       [ 7.99396101e-01, -1.02916774e+00],\n",
       "       [ 4.73067616e-01,  1.22435209e-01],\n",
       "       [ 2.42322557e+00, -4.79093751e-02],\n",
       "       [ 1.30061730e+00, -7.59765326e-01],\n",
       "       [ 1.40245605e+00, -3.00696945e-02],\n",
       "       [ 9.81430197e-01, -3.63066300e-01],\n",
       "       [ 3.18950822e+00, -2.13962335e-01],\n",
       "       [ 2.60836772e+00,  2.76024856e-01],\n",
       "       [ 2.28784431e+00, -9.18621810e-01],\n",
       "       [ 2.50171902e+00,  1.01370891e+00],\n",
       "       [ 5.00059305e+00, -4.01221424e-01]])"
      ]
     },
     "execution_count": 135,
     "metadata": {},
     "output_type": "execute_result"
    }
   ],
   "source": [
    "PC_score = pca.transform(x)\n",
    "PC_score"
   ]
  },
  {
   "cell_type": "markdown",
   "id": "66f46e77",
   "metadata": {},
   "source": [
    "#### Mulitple Regression"
   ]
  },
  {
   "cell_type": "code",
   "execution_count": 136,
   "id": "55fa1541",
   "metadata": {
    "ExecuteTime": {
     "end_time": "2021-10-09T14:02:37.953982Z",
     "start_time": "2021-10-09T14:02:37.936972Z"
    }
   },
   "outputs": [
    {
     "data": {
      "text/html": [
       "<div>\n",
       "<style scoped>\n",
       "    .dataframe tbody tr th:only-of-type {\n",
       "        vertical-align: middle;\n",
       "    }\n",
       "\n",
       "    .dataframe tbody tr th {\n",
       "        vertical-align: top;\n",
       "    }\n",
       "\n",
       "    .dataframe thead th {\n",
       "        text-align: right;\n",
       "    }\n",
       "</style>\n",
       "<table border=\"1\" class=\"dataframe\">\n",
       "  <thead>\n",
       "    <tr style=\"text-align: right;\">\n",
       "      <th></th>\n",
       "      <th>PC1</th>\n",
       "      <th>PC2</th>\n",
       "    </tr>\n",
       "  </thead>\n",
       "  <tbody>\n",
       "    <tr>\n",
       "      <th>0</th>\n",
       "      <td>-1.427586</td>\n",
       "      <td>-0.282538</td>\n",
       "    </tr>\n",
       "    <tr>\n",
       "      <th>1</th>\n",
       "      <td>-2.186529</td>\n",
       "      <td>-1.040515</td>\n",
       "    </tr>\n",
       "    <tr>\n",
       "      <th>2</th>\n",
       "      <td>-1.932753</td>\n",
       "      <td>-0.757121</td>\n",
       "    </tr>\n",
       "    <tr>\n",
       "      <th>3</th>\n",
       "      <td>-1.454485</td>\n",
       "      <td>0.270477</td>\n",
       "    </tr>\n",
       "    <tr>\n",
       "      <th>4</th>\n",
       "      <td>-1.947137</td>\n",
       "      <td>-0.575545</td>\n",
       "    </tr>\n",
       "    <tr>\n",
       "      <th>...</th>\n",
       "      <td>...</td>\n",
       "      <td>...</td>\n",
       "    </tr>\n",
       "    <tr>\n",
       "      <th>100</th>\n",
       "      <td>3.189508</td>\n",
       "      <td>-0.213962</td>\n",
       "    </tr>\n",
       "    <tr>\n",
       "      <th>101</th>\n",
       "      <td>2.608368</td>\n",
       "      <td>0.276025</td>\n",
       "    </tr>\n",
       "    <tr>\n",
       "      <th>102</th>\n",
       "      <td>2.287844</td>\n",
       "      <td>-0.918622</td>\n",
       "    </tr>\n",
       "    <tr>\n",
       "      <th>103</th>\n",
       "      <td>2.501719</td>\n",
       "      <td>1.013709</td>\n",
       "    </tr>\n",
       "    <tr>\n",
       "      <th>104</th>\n",
       "      <td>5.000593</td>\n",
       "      <td>-0.401221</td>\n",
       "    </tr>\n",
       "  </tbody>\n",
       "</table>\n",
       "<p>105 rows × 2 columns</p>\n",
       "</div>"
      ],
      "text/plain": [
       "          PC1       PC2\n",
       "0   -1.427586 -0.282538\n",
       "1   -2.186529 -1.040515\n",
       "2   -1.932753 -0.757121\n",
       "3   -1.454485  0.270477\n",
       "4   -1.947137 -0.575545\n",
       "..        ...       ...\n",
       "100  3.189508 -0.213962\n",
       "101  2.608368  0.276025\n",
       "102  2.287844 -0.918622\n",
       "103  2.501719  1.013709\n",
       "104  5.000593 -0.401221\n",
       "\n",
       "[105 rows x 2 columns]"
      ]
     },
     "execution_count": 136,
     "metadata": {},
     "output_type": "execute_result"
    }
   ],
   "source": [
    "x = principals.drop('Money_19', axis = 1)\n",
    "x"
   ]
  },
  {
   "cell_type": "code",
   "execution_count": 137,
   "id": "141cdf7d",
   "metadata": {
    "ExecuteTime": {
     "end_time": "2021-10-09T14:02:39.139193Z",
     "start_time": "2021-10-09T14:02:39.134192Z"
    }
   },
   "outputs": [
    {
     "data": {
      "text/plain": [
       "0      250000\n",
       "1      150000\n",
       "2      200000\n",
       "3      150000\n",
       "4      150000\n",
       "        ...  \n",
       "100      4900\n",
       "101      3000\n",
       "102      4000\n",
       "103      3000\n",
       "104      2700\n",
       "Name: Money_19, Length: 105, dtype: int64"
      ]
     },
     "execution_count": 137,
     "metadata": {},
     "output_type": "execute_result"
    }
   ],
   "source": [
    "y = principals['Money_19']\n",
    "y"
   ]
  },
  {
   "cell_type": "code",
   "execution_count": 138,
   "id": "fd9e3419",
   "metadata": {
    "ExecuteTime": {
     "end_time": "2021-10-09T14:02:39.590665Z",
     "start_time": "2021-10-09T14:02:39.575661Z"
    }
   },
   "outputs": [],
   "source": [
    "x_train, x_test, y_train, y_test = train_test_split(x, y, test_size = 0.2, random_state = 42)"
   ]
  },
  {
   "cell_type": "code",
   "execution_count": 139,
   "id": "391d3e39",
   "metadata": {
    "ExecuteTime": {
     "end_time": "2021-10-09T14:02:40.229851Z",
     "start_time": "2021-10-09T14:02:40.218848Z"
    }
   },
   "outputs": [
    {
     "data": {
      "text/plain": [
       "21"
      ]
     },
     "execution_count": 139,
     "metadata": {},
     "output_type": "execute_result"
    }
   ],
   "source": [
    "len(x_test)"
   ]
  },
  {
   "cell_type": "code",
   "execution_count": 140,
   "id": "4208e39b",
   "metadata": {
    "ExecuteTime": {
     "end_time": "2021-10-09T14:02:40.807931Z",
     "start_time": "2021-10-09T14:02:40.799942Z"
    }
   },
   "outputs": [
    {
     "data": {
      "text/plain": [
       "LinearRegression()"
      ]
     },
     "execution_count": 140,
     "metadata": {},
     "output_type": "execute_result"
    }
   ],
   "source": [
    "LR = LinearRegression()\n",
    "LR.fit(x_train, y_train)"
   ]
  },
  {
   "cell_type": "code",
   "execution_count": 141,
   "id": "ef331fae",
   "metadata": {
    "ExecuteTime": {
     "end_time": "2021-10-09T14:02:41.214204Z",
     "start_time": "2021-10-09T14:02:41.206196Z"
    }
   },
   "outputs": [
    {
     "data": {
      "text/plain": [
       "array([ 52394.62259726,  22990.18876918,  26446.32984113,  24640.79063289,\n",
       "        32130.28221751,  45838.78716156, -10318.38082789,  31468.34173844,\n",
       "        59409.7048854 ,  55397.90829106,  42992.33056225,  36699.19782444,\n",
       "        33174.28410211,  10307.05356117,  31965.98901888,  66374.22027231,\n",
       "         6582.63873047,  38486.8375621 ,  64621.34665364,  57129.6730013 ,\n",
       "        31445.04271182])"
      ]
     },
     "execution_count": 141,
     "metadata": {},
     "output_type": "execute_result"
    }
   ],
   "source": [
    "y_prediction = LR.predict(x_test)\n",
    "y_prediction"
   ]
  },
  {
   "cell_type": "code",
   "execution_count": 142,
   "id": "0cbdf04b",
   "metadata": {
    "ExecuteTime": {
     "end_time": "2021-10-09T14:02:41.664226Z",
     "start_time": "2021-10-09T14:02:41.652216Z"
    }
   },
   "outputs": [
    {
     "name": "stdout",
     "output_type": "stream",
     "text": [
      "r2 score is 0.27315324239632555\n",
      "mean_sqrd_error is == 2601789041.452781\n",
      "root_mean_squared error of is ==  51007.73511392935\n"
     ]
    }
   ],
   "source": [
    "score = r2_score(y_test, y_prediction)\n",
    "print('r2 score is', score)\n",
    "print('mean_sqrd_error is ==', mean_squared_error(y_test, y_prediction))\n",
    "print('root_mean_squared error of is == ', np.sqrt(mean_squared_error(y_test, y_prediction)))"
   ]
  },
  {
   "cell_type": "code",
   "execution_count": null,
   "id": "941e4145",
   "metadata": {},
   "outputs": [],
   "source": []
  }
 ],
 "metadata": {
  "hide_input": false,
  "kernelspec": {
   "display_name": "Python 3",
   "language": "python",
   "name": "python3"
  },
  "language_info": {
   "codemirror_mode": {
    "name": "ipython",
    "version": 3
   },
   "file_extension": ".py",
   "mimetype": "text/x-python",
   "name": "python",
   "nbconvert_exporter": "python",
   "pygments_lexer": "ipython3",
   "version": "3.8.8"
  },
  "toc": {
   "base_numbering": 1,
   "nav_menu": {},
   "number_sections": true,
   "sideBar": true,
   "skip_h1_title": false,
   "title_cell": "Table of Contents",
   "title_sidebar": "Contents",
   "toc_cell": false,
   "toc_position": {},
   "toc_section_display": true,
   "toc_window_display": false
  },
  "varInspector": {
   "cols": {
    "lenName": 16,
    "lenType": 16,
    "lenVar": 40
   },
   "kernels_config": {
    "python": {
     "delete_cmd_postfix": "",
     "delete_cmd_prefix": "del ",
     "library": "var_list.py",
     "varRefreshCmd": "print(var_dic_list())"
    },
    "r": {
     "delete_cmd_postfix": ") ",
     "delete_cmd_prefix": "rm(",
     "library": "var_list.r",
     "varRefreshCmd": "cat(var_dic_list()) "
    }
   },
   "types_to_exclude": [
    "module",
    "function",
    "builtin_function_or_method",
    "instance",
    "_Feature"
   ],
   "window_display": false
  }
 },
 "nbformat": 4,
 "nbformat_minor": 5
}
