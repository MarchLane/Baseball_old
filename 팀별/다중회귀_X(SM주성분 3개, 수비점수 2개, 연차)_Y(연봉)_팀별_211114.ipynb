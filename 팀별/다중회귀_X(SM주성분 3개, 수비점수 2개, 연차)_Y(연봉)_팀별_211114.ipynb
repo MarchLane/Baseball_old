{
 "cells": [
  {
   "cell_type": "code",
   "execution_count": 2,
   "id": "67401d7a",
   "metadata": {
    "ExecuteTime": {
     "end_time": "2021-11-14T03:35:39.422708Z",
     "start_time": "2021-11-14T03:35:39.410706Z"
    }
   },
   "outputs": [],
   "source": [
    "import os\n",
    "import pandas as pd\n",
    "from sklearn.preprocessing import StandardScaler\n",
    "from sklearn.model_selection import train_test_split\n",
    "from sklearn.linear_model import LinearRegression\n",
    "from sklearn.metrics import r2_score\n",
    "from sklearn.metrics import mean_squared_error\n",
    "import numpy as np\n",
    "import matplotlib.pyplot as plt\n"
   ]
  },
  {
   "cell_type": "markdown",
   "id": "b3176c2e",
   "metadata": {},
   "source": [
    "### 분석"
   ]
  },
  {
   "cell_type": "code",
   "execution_count": 41,
   "id": "005b1636",
   "metadata": {
    "ExecuteTime": {
     "end_time": "2021-11-14T03:44:59.834850Z",
     "start_time": "2021-11-14T03:44:59.812834Z"
    },
    "scrolled": true
   },
   "outputs": [
    {
     "data": {
      "text/html": [
       "<div>\n",
       "<style scoped>\n",
       "    .dataframe tbody tr th:only-of-type {\n",
       "        vertical-align: middle;\n",
       "    }\n",
       "\n",
       "    .dataframe tbody tr th {\n",
       "        vertical-align: top;\n",
       "    }\n",
       "\n",
       "    .dataframe thead th {\n",
       "        text-align: right;\n",
       "    }\n",
       "</style>\n",
       "<table border=\"1\" class=\"dataframe\">\n",
       "  <thead>\n",
       "    <tr style=\"text-align: right;\">\n",
       "      <th></th>\n",
       "      <th>March_score</th>\n",
       "      <th>kWAR_score</th>\n",
       "      <th>AHP_score</th>\n",
       "      <th>P1</th>\n",
       "      <th>P2</th>\n",
       "      <th>P3</th>\n",
       "      <th>20연봉</th>\n",
       "      <th>승률</th>\n",
       "    </tr>\n",
       "    <tr>\n",
       "      <th>Unnamed: 0</th>\n",
       "      <th></th>\n",
       "      <th></th>\n",
       "      <th></th>\n",
       "      <th></th>\n",
       "      <th></th>\n",
       "      <th></th>\n",
       "      <th></th>\n",
       "      <th></th>\n",
       "    </tr>\n",
       "  </thead>\n",
       "  <tbody>\n",
       "    <tr>\n",
       "      <th>두산</th>\n",
       "      <td>44150.924</td>\n",
       "      <td>4790.142</td>\n",
       "      <td>1259.341</td>\n",
       "      <td>362.590461</td>\n",
       "      <td>1237.774294</td>\n",
       "      <td>-188.630502</td>\n",
       "      <td>452100</td>\n",
       "      <td>0.615</td>\n",
       "    </tr>\n",
       "    <tr>\n",
       "      <th>KT</th>\n",
       "      <td>43859.358</td>\n",
       "      <td>4754.125</td>\n",
       "      <td>1250.903</td>\n",
       "      <td>336.959632</td>\n",
       "      <td>1154.680794</td>\n",
       "      <td>-180.585478</td>\n",
       "      <td>348700</td>\n",
       "      <td>0.500</td>\n",
       "    </tr>\n",
       "    <tr>\n",
       "      <th>키움</th>\n",
       "      <td>43776.818</td>\n",
       "      <td>4743.975</td>\n",
       "      <td>1248.977</td>\n",
       "      <td>362.061583</td>\n",
       "      <td>1239.546146</td>\n",
       "      <td>-192.241449</td>\n",
       "      <td>439700</td>\n",
       "      <td>0.601</td>\n",
       "    </tr>\n",
       "    <tr>\n",
       "      <th>KIA</th>\n",
       "      <td>41878.145</td>\n",
       "      <td>4562.400</td>\n",
       "      <td>1211.747</td>\n",
       "      <td>299.008043</td>\n",
       "      <td>1022.251597</td>\n",
       "      <td>-157.162328</td>\n",
       "      <td>426900</td>\n",
       "      <td>0.437</td>\n",
       "    </tr>\n",
       "    <tr>\n",
       "      <th>NC</th>\n",
       "      <td>45377.503</td>\n",
       "      <td>4893.407</td>\n",
       "      <td>1279.389</td>\n",
       "      <td>402.543461</td>\n",
       "      <td>1375.226050</td>\n",
       "      <td>-210.547749</td>\n",
       "      <td>564100</td>\n",
       "      <td>0.514</td>\n",
       "    </tr>\n",
       "    <tr>\n",
       "      <th>LG</th>\n",
       "      <td>44233.028</td>\n",
       "      <td>4798.749</td>\n",
       "      <td>1261.255</td>\n",
       "      <td>337.683241</td>\n",
       "      <td>1156.795911</td>\n",
       "      <td>-180.705602</td>\n",
       "      <td>486100</td>\n",
       "      <td>0.552</td>\n",
       "    </tr>\n",
       "    <tr>\n",
       "      <th>삼성</th>\n",
       "      <td>43192.153</td>\n",
       "      <td>4660.533</td>\n",
       "      <td>1211.372</td>\n",
       "      <td>311.800548</td>\n",
       "      <td>1075.971257</td>\n",
       "      <td>-176.780665</td>\n",
       "      <td>365500</td>\n",
       "      <td>0.420</td>\n",
       "    </tr>\n",
       "    <tr>\n",
       "      <th>한화</th>\n",
       "      <td>43364.236</td>\n",
       "      <td>4698.880</td>\n",
       "      <td>1238.058</td>\n",
       "      <td>288.499872</td>\n",
       "      <td>988.926445</td>\n",
       "      <td>-155.773216</td>\n",
       "      <td>302300</td>\n",
       "      <td>0.403</td>\n",
       "    </tr>\n",
       "    <tr>\n",
       "      <th>롯데</th>\n",
       "      <td>44110.239</td>\n",
       "      <td>4790.569</td>\n",
       "      <td>1271.978</td>\n",
       "      <td>280.243400</td>\n",
       "      <td>958.068716</td>\n",
       "      <td>-147.881565</td>\n",
       "      <td>716100</td>\n",
       "      <td>0.340</td>\n",
       "    </tr>\n",
       "    <tr>\n",
       "      <th>SK</th>\n",
       "      <td>43729.497</td>\n",
       "      <td>4743.813</td>\n",
       "      <td>1252.413</td>\n",
       "      <td>315.984906</td>\n",
       "      <td>1084.357264</td>\n",
       "      <td>-171.040573</td>\n",
       "      <td>457400</td>\n",
       "      <td>0.615</td>\n",
       "    </tr>\n",
       "  </tbody>\n",
       "</table>\n",
       "</div>"
      ],
      "text/plain": [
       "            March_score  kWAR_score  AHP_score          P1           P2  \\\n",
       "Unnamed: 0                                                                \n",
       "두산            44150.924    4790.142   1259.341  362.590461  1237.774294   \n",
       "KT            43859.358    4754.125   1250.903  336.959632  1154.680794   \n",
       "키움            43776.818    4743.975   1248.977  362.061583  1239.546146   \n",
       "KIA           41878.145    4562.400   1211.747  299.008043  1022.251597   \n",
       "NC            45377.503    4893.407   1279.389  402.543461  1375.226050   \n",
       "LG            44233.028    4798.749   1261.255  337.683241  1156.795911   \n",
       "삼성            43192.153    4660.533   1211.372  311.800548  1075.971257   \n",
       "한화            43364.236    4698.880   1238.058  288.499872   988.926445   \n",
       "롯데            44110.239    4790.569   1271.978  280.243400   958.068716   \n",
       "SK            43729.497    4743.813   1252.413  315.984906  1084.357264   \n",
       "\n",
       "                    P3    20연봉     승률  \n",
       "Unnamed: 0                             \n",
       "두산         -188.630502  452100  0.615  \n",
       "KT         -180.585478  348700  0.500  \n",
       "키움         -192.241449  439700  0.601  \n",
       "KIA        -157.162328  426900  0.437  \n",
       "NC         -210.547749  564100  0.514  \n",
       "LG         -180.705602  486100  0.552  \n",
       "삼성         -176.780665  365500  0.420  \n",
       "한화         -155.773216  302300  0.403  \n",
       "롯데         -147.881565  716100  0.340  \n",
       "SK         -171.040573  457400  0.615  "
      ]
     },
     "execution_count": 41,
     "metadata": {},
     "output_type": "execute_result"
    }
   ],
   "source": [
    "os.chdir(r'C:\\Users\\jaij2\\OneDrive\\바탕 화면\\논문\\야구데이터\\수비율\\전처리')\n",
    "df_fin = pd.read_csv('2019_타자_팀별_수비점수(March, kWAR, AHP), 주성분(P1, P2, P3)_Scaled_SM, 20연봉, 승률.csv', encoding = 'cp949')\n",
    "df_fin.index = df_fin['Unnamed: 0']\n",
    "del df_fin['Unnamed: 0']\n",
    "df_fin"
   ]
  },
  {
   "cell_type": "code",
   "execution_count": 37,
   "id": "be0439c1",
   "metadata": {
    "ExecuteTime": {
     "end_time": "2021-11-14T03:42:20.604391Z",
     "start_time": "2021-11-14T03:42:20.601398Z"
    },
    "scrolled": true
   },
   "outputs": [],
   "source": [
    "# ## 표준화 하나마나 결과가 똑같음\n",
    "# sc_df_fin = pd.DataFrame(StandardScaler().fit_transform(df_fin))\n",
    "# sc_df_fin.columns = df_fin.columns\n",
    "# sc_df_fin"
   ]
  },
  {
   "cell_type": "code",
   "execution_count": 38,
   "id": "82f88436",
   "metadata": {
    "ExecuteTime": {
     "end_time": "2021-11-14T03:42:21.040526Z",
     "start_time": "2021-11-14T03:42:21.031517Z"
    },
    "scrolled": false
   },
   "outputs": [],
   "source": [
    "# sc_df_fin.index = df_fin.index\n",
    "# sc_df_fin['20연봉'] = np.log(df_fin['20연봉'])\n",
    "# #sc_df_fin['FA유무'] = df_fin['FA유무']\n",
    "# sc_df_fin"
   ]
  },
  {
   "cell_type": "code",
   "execution_count": 43,
   "id": "b7823fd8",
   "metadata": {
    "ExecuteTime": {
     "end_time": "2021-11-14T03:45:04.245797Z",
     "start_time": "2021-11-14T03:45:04.233787Z"
    },
    "scrolled": true
   },
   "outputs": [
    {
     "data": {
      "text/html": [
       "<div>\n",
       "<style scoped>\n",
       "    .dataframe tbody tr th:only-of-type {\n",
       "        vertical-align: middle;\n",
       "    }\n",
       "\n",
       "    .dataframe tbody tr th {\n",
       "        vertical-align: top;\n",
       "    }\n",
       "\n",
       "    .dataframe thead th {\n",
       "        text-align: right;\n",
       "    }\n",
       "</style>\n",
       "<table border=\"1\" class=\"dataframe\">\n",
       "  <thead>\n",
       "    <tr style=\"text-align: right;\">\n",
       "      <th></th>\n",
       "      <th>March_score</th>\n",
       "      <th>kWAR_score</th>\n",
       "      <th>AHP_score</th>\n",
       "      <th>P1</th>\n",
       "      <th>P2</th>\n",
       "      <th>P3</th>\n",
       "      <th>20연봉</th>\n",
       "      <th>승률</th>\n",
       "    </tr>\n",
       "    <tr>\n",
       "      <th>Unnamed: 0</th>\n",
       "      <th></th>\n",
       "      <th></th>\n",
       "      <th></th>\n",
       "      <th></th>\n",
       "      <th></th>\n",
       "      <th></th>\n",
       "      <th></th>\n",
       "      <th></th>\n",
       "    </tr>\n",
       "  </thead>\n",
       "  <tbody>\n",
       "    <tr>\n",
       "      <th>두산</th>\n",
       "      <td>44150.924</td>\n",
       "      <td>4790.142</td>\n",
       "      <td>1259.341</td>\n",
       "      <td>362.590461</td>\n",
       "      <td>1237.774294</td>\n",
       "      <td>-188.630502</td>\n",
       "      <td>13.021659</td>\n",
       "      <td>0.615</td>\n",
       "    </tr>\n",
       "    <tr>\n",
       "      <th>KT</th>\n",
       "      <td>43859.358</td>\n",
       "      <td>4754.125</td>\n",
       "      <td>1250.903</td>\n",
       "      <td>336.959632</td>\n",
       "      <td>1154.680794</td>\n",
       "      <td>-180.585478</td>\n",
       "      <td>12.761967</td>\n",
       "      <td>0.500</td>\n",
       "    </tr>\n",
       "    <tr>\n",
       "      <th>키움</th>\n",
       "      <td>43776.818</td>\n",
       "      <td>4743.975</td>\n",
       "      <td>1248.977</td>\n",
       "      <td>362.061583</td>\n",
       "      <td>1239.546146</td>\n",
       "      <td>-192.241449</td>\n",
       "      <td>12.993848</td>\n",
       "      <td>0.601</td>\n",
       "    </tr>\n",
       "    <tr>\n",
       "      <th>KIA</th>\n",
       "      <td>41878.145</td>\n",
       "      <td>4562.400</td>\n",
       "      <td>1211.747</td>\n",
       "      <td>299.008043</td>\n",
       "      <td>1022.251597</td>\n",
       "      <td>-157.162328</td>\n",
       "      <td>12.964305</td>\n",
       "      <td>0.437</td>\n",
       "    </tr>\n",
       "    <tr>\n",
       "      <th>NC</th>\n",
       "      <td>45377.503</td>\n",
       "      <td>4893.407</td>\n",
       "      <td>1279.389</td>\n",
       "      <td>402.543461</td>\n",
       "      <td>1375.226050</td>\n",
       "      <td>-210.547749</td>\n",
       "      <td>13.242987</td>\n",
       "      <td>0.514</td>\n",
       "    </tr>\n",
       "    <tr>\n",
       "      <th>LG</th>\n",
       "      <td>44233.028</td>\n",
       "      <td>4798.749</td>\n",
       "      <td>1261.255</td>\n",
       "      <td>337.683241</td>\n",
       "      <td>1156.795911</td>\n",
       "      <td>-180.705602</td>\n",
       "      <td>13.094170</td>\n",
       "      <td>0.552</td>\n",
       "    </tr>\n",
       "    <tr>\n",
       "      <th>삼성</th>\n",
       "      <td>43192.153</td>\n",
       "      <td>4660.533</td>\n",
       "      <td>1211.372</td>\n",
       "      <td>311.800548</td>\n",
       "      <td>1075.971257</td>\n",
       "      <td>-176.780665</td>\n",
       "      <td>12.809022</td>\n",
       "      <td>0.420</td>\n",
       "    </tr>\n",
       "    <tr>\n",
       "      <th>한화</th>\n",
       "      <td>43364.236</td>\n",
       "      <td>4698.880</td>\n",
       "      <td>1238.058</td>\n",
       "      <td>288.499872</td>\n",
       "      <td>988.926445</td>\n",
       "      <td>-155.773216</td>\n",
       "      <td>12.619175</td>\n",
       "      <td>0.403</td>\n",
       "    </tr>\n",
       "    <tr>\n",
       "      <th>롯데</th>\n",
       "      <td>44110.239</td>\n",
       "      <td>4790.569</td>\n",
       "      <td>1271.978</td>\n",
       "      <td>280.243400</td>\n",
       "      <td>958.068716</td>\n",
       "      <td>-147.881565</td>\n",
       "      <td>13.481575</td>\n",
       "      <td>0.340</td>\n",
       "    </tr>\n",
       "    <tr>\n",
       "      <th>SK</th>\n",
       "      <td>43729.497</td>\n",
       "      <td>4743.813</td>\n",
       "      <td>1252.413</td>\n",
       "      <td>315.984906</td>\n",
       "      <td>1084.357264</td>\n",
       "      <td>-171.040573</td>\n",
       "      <td>13.033314</td>\n",
       "      <td>0.615</td>\n",
       "    </tr>\n",
       "  </tbody>\n",
       "</table>\n",
       "</div>"
      ],
      "text/plain": [
       "            March_score  kWAR_score  AHP_score          P1           P2  \\\n",
       "Unnamed: 0                                                                \n",
       "두산            44150.924    4790.142   1259.341  362.590461  1237.774294   \n",
       "KT            43859.358    4754.125   1250.903  336.959632  1154.680794   \n",
       "키움            43776.818    4743.975   1248.977  362.061583  1239.546146   \n",
       "KIA           41878.145    4562.400   1211.747  299.008043  1022.251597   \n",
       "NC            45377.503    4893.407   1279.389  402.543461  1375.226050   \n",
       "LG            44233.028    4798.749   1261.255  337.683241  1156.795911   \n",
       "삼성            43192.153    4660.533   1211.372  311.800548  1075.971257   \n",
       "한화            43364.236    4698.880   1238.058  288.499872   988.926445   \n",
       "롯데            44110.239    4790.569   1271.978  280.243400   958.068716   \n",
       "SK            43729.497    4743.813   1252.413  315.984906  1084.357264   \n",
       "\n",
       "                    P3       20연봉     승률  \n",
       "Unnamed: 0                                \n",
       "두산         -188.630502  13.021659  0.615  \n",
       "KT         -180.585478  12.761967  0.500  \n",
       "키움         -192.241449  12.993848  0.601  \n",
       "KIA        -157.162328  12.964305  0.437  \n",
       "NC         -210.547749  13.242987  0.514  \n",
       "LG         -180.705602  13.094170  0.552  \n",
       "삼성         -176.780665  12.809022  0.420  \n",
       "한화         -155.773216  12.619175  0.403  \n",
       "롯데         -147.881565  13.481575  0.340  \n",
       "SK         -171.040573  13.033314  0.615  "
      ]
     },
     "execution_count": 43,
     "metadata": {},
     "output_type": "execute_result"
    }
   ],
   "source": [
    "# sc_df_fin.index = df_fin.index\n",
    "df_fin['20연봉'] = np.log(df_fin['20연봉'])\n",
    "#df_fin['FA유무'] = df_fin['FA유무']\n",
    "df_fin"
   ]
  },
  {
   "cell_type": "code",
   "execution_count": 16,
   "id": "c98c26db",
   "metadata": {
    "ExecuteTime": {
     "end_time": "2021-11-08T06:58:55.095007Z",
     "start_time": "2021-11-08T06:58:55.079023Z"
    }
   },
   "outputs": [],
   "source": [
    "# os.chdir(r'C:\\Users\\jaij2\\OneDrive\\바탕 화면\\논문\\야구데이터\\수비율\\전처리')\n",
    "# sc_df_fin.to_csv('2019_타자_수비점수(March, kWAR, AHP), 주성분(GEN, POW, SPD)_3, 연차, FA - 표준화, 로그.csv', encoding = 'cp949')"
   ]
  },
  {
   "cell_type": "markdown",
   "id": "bf24f30c",
   "metadata": {},
   "source": [
    "#### 수비점수 kWAR"
   ]
  },
  {
   "cell_type": "code",
   "execution_count": 47,
   "id": "957345c4",
   "metadata": {
    "ExecuteTime": {
     "end_time": "2021-11-14T03:45:45.301418Z",
     "start_time": "2021-11-14T03:45:45.291418Z"
    },
    "scrolled": true
   },
   "outputs": [
    {
     "name": "stdout",
     "output_type": "stream",
     "text": [
      "[0.45173575 0.59703372]\n",
      "r2score =  -0.7109704078840189\n",
      "mse =  0.010950210610457718\n",
      "rmse =  0.10464325401313607\n",
      "adjustedr2 =  -2.8496834177390427\n"
     ]
    }
   ],
   "source": [
    "x = df_fin.drop(['March_score', 'AHP_score', '승률'], axis = 1)\n",
    "#y = np.log(np.log(sc_df_fin['20연봉']))   ## 로그 3번\n",
    "#y = np.log(df_fin['20연봉'])           ## 로그 2번\n",
    "y = df_fin['승률']                    ## 로그 1번\n",
    "\n",
    "x_train, x_test, y_train, y_test = train_test_split(x, y, test_size = 0.2, random_state = 42)\n",
    "\n",
    "LR = LinearRegression()\n",
    "LR.fit(x_train, y_train)\n",
    "\n",
    "y_prediction = LR.predict(x_test)\n",
    "print(y_prediction)\n",
    "print('r2score = ', r2_score(y_test, y_prediction))\n",
    "print('mse = ', mean_squared_error(y_test,y_prediction))\n",
    "print('rmse = ', np.sqrt(mean_squared_error(y_test,y_prediction)))\n",
    "## adjusted R2 score\n",
    "r2 = r2_score(y_test, y_prediction)\n",
    "n = len(x)   ## 관측값의 개수\n",
    "k = len(x.columns)   ## 독립변수의 개수\n",
    "ar2 = 1 - ((1 - r2) * (n - 1) / (n - k - 1))\n",
    "print('adjustedr2 = ', ar2)"
   ]
  },
  {
   "cell_type": "code",
   "execution_count": 231,
   "id": "7ed467a5",
   "metadata": {
    "ExecuteTime": {
     "end_time": "2021-11-07T12:05:21.561004Z",
     "start_time": "2021-11-07T12:05:21.551002Z"
    }
   },
   "outputs": [
    {
     "data": {
      "text/plain": [
       "array([ 0.01187302,  0.06308929, -0.01427472,  0.00376971,  0.03556015,\n",
       "        0.03310868])"
      ]
     },
     "execution_count": 231,
     "metadata": {},
     "output_type": "execute_result"
    }
   ],
   "source": [
    "LR.coef_"
   ]
  },
  {
   "cell_type": "code",
   "execution_count": 11,
   "id": "4db405be",
   "metadata": {
    "ExecuteTime": {
     "end_time": "2021-11-14T03:38:50.349528Z",
     "start_time": "2021-11-14T03:38:50.331512Z"
    }
   },
   "outputs": [
    {
     "data": {
      "text/plain": [
       "0.06066513519558492"
      ]
     },
     "execution_count": 11,
     "metadata": {},
     "output_type": "execute_result"
    }
   ],
   "source": [
    "LR.score(x, y)"
   ]
  },
  {
   "cell_type": "code",
   "execution_count": 13,
   "id": "2ee9131f",
   "metadata": {
    "ExecuteTime": {
     "end_time": "2021-11-14T03:39:00.340193Z",
     "start_time": "2021-11-14T03:39:00.325196Z"
    }
   },
   "outputs": [],
   "source": [
    "y_prediction_2 = LR.predict(x)"
   ]
  },
  {
   "cell_type": "code",
   "execution_count": 14,
   "id": "aef35219",
   "metadata": {
    "ExecuteTime": {
     "end_time": "2021-11-14T03:39:00.699737Z",
     "start_time": "2021-11-14T03:39:00.529492Z"
    }
   },
   "outputs": [
    {
     "data": {
      "text/plain": [
       "<matplotlib.collections.PathCollection at 0x2918c87afd0>"
      ]
     },
     "execution_count": 14,
     "metadata": {},
     "output_type": "execute_result"
    },
    {
     "data": {
      "image/png": "[encoded data removed]",
      "text/plain": [
       "<Figure size 432x288 with 1 Axes>"
      ]
     },
     "metadata": {
      "needs_background": "light"
     },
     "output_type": "display_data"
    }
   ],
   "source": [
    "plt.scatter(y, y_prediction_2, alpha=0.4)"
   ]
  },
  {
   "cell_type": "markdown",
   "id": "278ca268",
   "metadata": {},
   "source": [
    "#### 수비점수 March"
   ]
  },
  {
   "cell_type": "code",
   "execution_count": 18,
   "id": "7b9e6377",
   "metadata": {
    "ExecuteTime": {
     "end_time": "2021-11-08T06:59:35.888885Z",
     "start_time": "2021-11-08T06:59:35.874882Z"
    }
   },
   "outputs": [
    {
     "name": "stdout",
     "output_type": "stream",
     "text": [
      "[10.69488564  9.58131312  9.40900414  9.88067347 11.10460226 10.45442983\n",
      " 10.12837247 10.34005096 10.09542711 11.17779815]\n",
      "r2score =  0.7869734129811277\n",
      "mse =  0.08548192113602851\n",
      "rmse =  0.2923729145047956\n",
      "adjustedr2 =  0.756541043407003\n"
     ]
    }
   ],
   "source": [
    "x = df_fin.drop(['kWAR_score', 'AHP_score', '20연봉'], axis = 1)\n",
    "y = sc_df_fin['20연봉']\n",
    "\n",
    "x_train, x_test, y_train, y_test = train_test_split(x, y, test_size = 0.2, random_state = 42)\n",
    "\n",
    "LR = LinearRegression()\n",
    "LR.fit(x_train, y_train)\n",
    "\n",
    "y_prediction = LR.predict(x_test)\n",
    "print(y_prediction)\n",
    "print('r2score = ', r2_score(y_test, y_prediction))\n",
    "print('mse = ', mean_squared_error(y_test,y_prediction))\n",
    "print('rmse = ', np.sqrt(mean_squared_error(y_test,y_prediction)))\n",
    "## adjusted R2 score\n",
    "r2 = r2_score(y_test, y_prediction)\n",
    "n = len(x)   ## 관측값의 개수\n",
    "k = len(x.columns)   ## 독립변수의 개수\n",
    "ar2 = 1 - ((1 - r2) * (n - 1) / (n - k - 1))\n",
    "print('adjustedr2 = ', ar2)"
   ]
  },
  {
   "cell_type": "markdown",
   "id": "9aba0782",
   "metadata": {},
   "source": [
    "#### March 수비점수만 회귀분석 --> 쓰레기"
   ]
  },
  {
   "cell_type": "code",
   "execution_count": 11,
   "id": "12cfa141",
   "metadata": {
    "ExecuteTime": {
     "end_time": "2021-11-08T06:58:27.536736Z",
     "start_time": "2021-11-08T06:58:27.524732Z"
    }
   },
   "outputs": [
    {
     "name": "stdout",
     "output_type": "stream",
     "text": [
      "[10.26922532 10.26232538 10.40411103 10.20793174 10.39389317 10.39883391\n",
      " 10.34688834 10.37399766 10.40031198 10.40333712]\n",
      "r2score =  -0.010691769971804987\n",
      "mse =  0.4055638095817072\n",
      "rmse =  0.6368389196505716\n",
      "adjustedr2 =  -0.054634890405361736\n"
     ]
    }
   ],
   "source": [
    "x = sc_df_fin.drop(['kWAR_score', 'AHP_score', '20연봉', '연차', 'P1', 'P2', 'P3'], axis = 1)\n",
    "y = sc_df_fin['20연봉']\n",
    "\n",
    "x_train, x_test, y_train, y_test = train_test_split(x, y, test_size = 0.2, random_state = 42)\n",
    "\n",
    "LR = LinearRegression()\n",
    "LR.fit(x_train, y_train)\n",
    "\n",
    "y_prediction = LR.predict(x_test)\n",
    "print(y_prediction)\n",
    "print('r2score = ', r2_score(y_test, y_prediction))\n",
    "print('mse = ', mean_squared_error(y_test,y_prediction))\n",
    "print('rmse = ', np.sqrt(mean_squared_error(y_test,y_prediction)))\n",
    "## adjusted R2 score\n",
    "r2 = r2_score(y_test, y_prediction)\n",
    "n = len(x)   ## 관측값의 개수\n",
    "k = len(x.columns)   ## 독립변수의 개수\n",
    "ar2 = 1 - ((1 - r2) * (n - 1) / (n - k - 1))\n",
    "print('adjustedr2 = ', ar2)"
   ]
  },
  {
   "cell_type": "markdown",
   "id": "64637c02",
   "metadata": {},
   "source": [
    "#### AHP_score"
   ]
  },
  {
   "cell_type": "code",
   "execution_count": 19,
   "id": "79b9b4a7",
   "metadata": {
    "ExecuteTime": {
     "end_time": "2021-11-08T07:00:02.052801Z",
     "start_time": "2021-11-08T07:00:02.038779Z"
    }
   },
   "outputs": [
    {
     "name": "stdout",
     "output_type": "stream",
     "text": [
      "[10.54590722  9.58276188  9.42316868  9.78983902 11.10573652 10.4289413\n",
      " 10.07334813 10.30165592 10.12976207 11.14141213]\n",
      "r2score =  0.7851725061067008\n",
      "mse =  0.08620457731508777\n",
      "rmse =  0.2936061602131123\n",
      "adjustedr2 =  0.7544828641219437\n"
     ]
    }
   ],
   "source": [
    "x = sc_df_fin.drop(['kWAR_score', '20연봉', 'March_score'], axis = 1)\n",
    "y = sc_df_fin['20연봉']\n",
    "\n",
    "x_train, x_test, y_train, y_test = train_test_split(x, y, test_size = 0.2, random_state = 42)\n",
    "\n",
    "LR = LinearRegression()\n",
    "LR.fit(x_train, y_train)\n",
    "\n",
    "y_prediction = LR.predict(x_test)\n",
    "print(y_prediction)\n",
    "print('r2score = ', r2_score(y_test, y_prediction))\n",
    "print('mse = ', mean_squared_error(y_test,y_prediction))\n",
    "print('rmse = ', np.sqrt(mean_squared_error(y_test,y_prediction)))\n",
    "## adjusted R2 score\n",
    "r2 = r2_score(y_test, y_prediction)\n",
    "n = len(x)   ## 관측값의 개수\n",
    "k = len(x.columns)   ## 독립변수의 개수\n",
    "ar2 = 1 - ((1 - r2) * (n - 1) / (n - k - 1))\n",
    "print('adjustedr2 = ', ar2)"
   ]
  },
  {
   "cell_type": "markdown",
   "id": "f392b3ca",
   "metadata": {},
   "source": [
    "#### 수비점수 3개 다 넣어서"
   ]
  },
  {
   "cell_type": "code",
   "execution_count": 108,
   "id": "90f46432",
   "metadata": {
    "ExecuteTime": {
     "end_time": "2021-11-05T04:33:31.681427Z",
     "start_time": "2021-11-05T04:33:31.658404Z"
    }
   },
   "outputs": [
    {
     "name": "stdout",
     "output_type": "stream",
     "text": [
      "[10.62978222  9.33862777  9.34898457  9.83104469 11.07516848 10.47363078\n",
      "  9.94943327 10.34146441 10.2043456  11.46837917]\n",
      "r2score =  0.715508716524185\n",
      "mse =  0.11415880899323008\n",
      "rmse =  0.33787395429838935\n",
      "adjustedr2 =  0.658610459829022\n"
     ]
    }
   ],
   "source": [
    "x = sc_df_fin.drop(['20연봉'], axis = 1)\n",
    "y = np.log(df_fin['20연봉'])\n",
    "\n",
    "x_train, x_test, y_train, y_test = train_test_split(x, y, test_size = 0.2, random_state = 42)\n",
    "\n",
    "LR = LinearRegression()\n",
    "LR.fit(x_train, y_train)\n",
    "\n",
    "y_prediction = LR.predict(x_test)\n",
    "print(y_prediction)\n",
    "print('r2score = ', r2_score(y_test, y_prediction))\n",
    "print('mse = ', mean_squared_error(y_test,y_prediction))\n",
    "print('rmse = ', np.sqrt(mean_squared_error(y_test,y_prediction)))\n",
    "## adjusted R2 score\n",
    "r2 = r2_score(y_test, y_prediction)\n",
    "n = len(x)   ## 관측값의 개수\n",
    "k = len(x.columns)   ## 독립변수의 개수\n",
    "ar2 = 1 - ((1 - r2) * (n - 1) / (n - k - 1))\n",
    "print('adjustedr2 = ', ar2)"
   ]
  },
  {
   "cell_type": "markdown",
   "id": "c27c28aa",
   "metadata": {},
   "source": [
    "### 그래프"
   ]
  },
  {
   "cell_type": "code",
   "execution_count": 57,
   "id": "0e04fbfc",
   "metadata": {
    "ExecuteTime": {
     "end_time": "2021-11-05T04:26:24.491656Z",
     "start_time": "2021-11-05T04:26:24.158582Z"
    }
   },
   "outputs": [],
   "source": [
    "import matplotlib.pyplot as plt\n",
    "import matplotlib.pylab as pylab\n"
   ]
  },
  {
   "cell_type": "code",
   "execution_count": 60,
   "id": "39744dbc",
   "metadata": {
    "ExecuteTime": {
     "end_time": "2021-11-05T04:26:48.601757Z",
     "start_time": "2021-11-05T04:26:48.426198Z"
    },
    "scrolled": true
   },
   "outputs": [
    {
     "data": {
      "text/plain": [
       "<matplotlib.collections.PathCollection at 0x2089238cc70>"
      ]
     },
     "execution_count": 60,
     "metadata": {},
     "output_type": "execute_result"
    },
    {
     "data": {
      "image/png": "[encoded data removed]",
      "text/plain": [
       "<Figure size 432x288 with 1 Axes>"
      ]
     },
     "metadata": {
      "needs_background": "light"
     },
     "output_type": "display_data"
    }
   ],
   "source": [
    "plt.scatter(df_fin['GEN'], df_fin['20연봉'])"
   ]
  },
  {
   "cell_type": "code",
   "execution_count": 61,
   "id": "b29e0d0d",
   "metadata": {
    "ExecuteTime": {
     "end_time": "2021-11-05T04:26:53.908220Z",
     "start_time": "2021-11-05T04:26:53.747186Z"
    }
   },
   "outputs": [
    {
     "data": {
      "text/plain": [
       "<matplotlib.collections.PathCollection at 0x20892482070>"
      ]
     },
     "execution_count": 61,
     "metadata": {},
     "output_type": "execute_result"
    },
    {
     "data": {
      "image/png": "[encoded data removed]",
      "text/plain": [
       "<Figure size 432x288 with 1 Axes>"
      ]
     },
     "metadata": {
      "needs_background": "light"
     },
     "output_type": "display_data"
    }
   ],
   "source": [
    "plt.scatter(df_fin['POW'], df_fin['20연봉'])"
   ]
  },
  {
   "cell_type": "code",
   "execution_count": 62,
   "id": "1ddc3e69",
   "metadata": {
    "ExecuteTime": {
     "end_time": "2021-11-05T04:26:56.086494Z",
     "start_time": "2021-11-05T04:26:55.933447Z"
    }
   },
   "outputs": [
    {
     "data": {
      "text/plain": [
       "<matplotlib.collections.PathCollection at 0x208924e42e0>"
      ]
     },
     "execution_count": 62,
     "metadata": {},
     "output_type": "execute_result"
    },
    {
     "data": {
      "image/png": "[encoded data removed]",
      "text/plain": [
       "<Figure size 432x288 with 1 Axes>"
      ]
     },
     "metadata": {
      "needs_background": "light"
     },
     "output_type": "display_data"
    }
   ],
   "source": [
    "plt.scatter(df_fin['SPD'], df_fin['20연봉'])"
   ]
  },
  {
   "cell_type": "code",
   "execution_count": 67,
   "id": "9c3c91d2",
   "metadata": {
    "ExecuteTime": {
     "end_time": "2021-11-05T04:27:39.852146Z",
     "start_time": "2021-11-05T04:27:39.700173Z"
    }
   },
   "outputs": [
    {
     "data": {
      "text/plain": [
       "<matplotlib.collections.PathCollection at 0x2089263eac0>"
      ]
     },
     "execution_count": 67,
     "metadata": {},
     "output_type": "execute_result"
    },
    {
     "data": {
      "image/png": "[encoded data removed]",
      "text/plain": [
       "<Figure size 432x288 with 1 Axes>"
      ]
     },
     "metadata": {
      "needs_background": "light"
     },
     "output_type": "display_data"
    }
   ],
   "source": [
    "pylab.scatter(df_fin['연차'], df_fin['20연봉'])"
   ]
  },
  {
   "cell_type": "code",
   "execution_count": null,
   "id": "e6a67fb8",
   "metadata": {},
   "outputs": [],
   "source": []
  }
 ],
 "metadata": {
  "hide_input": false,
  "kernelspec": {
   "display_name": "Python 3",
   "language": "python",
   "name": "python3"
  },
  "language_info": {
   "codemirror_mode": {
    "name": "ipython",
    "version": 3
   },
   "file_extension": ".py",
   "mimetype": "text/x-python",
   "name": "python",
   "nbconvert_exporter": "python",
   "pygments_lexer": "ipython3",
   "version": "3.8.8"
  },
  "toc": {
   "base_numbering": 1,
   "nav_menu": {},
   "number_sections": true,
   "sideBar": true,
   "skip_h1_title": false,
   "title_cell": "Table of Contents",
   "title_sidebar": "Contents",
   "toc_cell": false,
   "toc_position": {},
   "toc_section_display": true,
   "toc_window_display": false
  },
  "varInspector": {
   "cols": {
    "lenName": 16,
    "lenType": 16,
    "lenVar": 40
   },
   "kernels_config": {
    "python": {
     "delete_cmd_postfix": "",
     "delete_cmd_prefix": "del ",
     "library": "var_list.py",
     "varRefreshCmd": "print(var_dic_list())"
    },
    "r": {
     "delete_cmd_postfix": ") ",
     "delete_cmd_prefix": "rm(",
     "library": "var_list.r",
     "varRefreshCmd": "cat(var_dic_list()) "
    }
   },
   "types_to_exclude": [
    "module",
    "function",
    "builtin_function_or_method",
    "instance",
    "_Feature"
   ],
   "window_display": false
  }
 },
 "nbformat": 4,
 "nbformat_minor": 5
}
